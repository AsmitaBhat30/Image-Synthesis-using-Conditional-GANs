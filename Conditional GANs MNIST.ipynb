{
 "cells": [
  {
   "cell_type": "code",
   "execution_count": 4,
   "metadata": {},
   "outputs": [
    {
     "data": {
      "image/png": "[encoded data removed]",
      "text/plain": [
       "<Figure size 432x288 with 1 Axes>"
      ]
     },
     "metadata": {
      "needs_background": "light"
     },
     "output_type": "display_data"
    }
   ],
   "source": [
    "from keras.models import load_model\n",
    "from keras.utils import to_categorical, plot_model\n",
    "import matplotlib.pyplot as plt\n",
    "import numpy as np\n",
    "\n",
    "\n",
    "def generate_images():\n",
    "    # load model\n",
    "    model = load_model('generator_model_cgan_v2.h5')\n",
    "    # generate images\n",
    "    latent_points, labels = generate_latent_points(100, 1000)\n",
    "    # specify labels\n",
    "    labels = np.asarray([x for _ in range(100) for x in range(10)])\n",
    "    one_hot_labels = to_categorical(labels)\n",
    "    # generate images\n",
    "    X = model.predict([latent_points, one_hot_labels])\n",
    "    # scale from [-1,1] to [0,1]\n",
    "    X = (X + 1) / 2.0\n",
    "    # plot the result\n",
    "    save_plot(X, labels)\n",
    "\n",
    "\n",
    "# generate points in latent space as input for the generator\n",
    "def generate_latent_points(latent_dim, n_samples, n_classes=10):\n",
    "    # generate points in the latent space\n",
    "    x_input = np.random.randn(latent_dim * n_samples)\n",
    "    # reshape into a batch of inputs for the network\n",
    "    z_input = x_input.reshape(n_samples, latent_dim)\n",
    "    # generate labels\n",
    "    labels = np.random.randint(0, n_classes, n_samples)\n",
    "    return [z_input, labels]\n",
    "\n",
    "\n",
    "# create and save a plot of generated images\n",
    "def save_plot(examples, labels):\n",
    "    for i in range(1000):\n",
    "        plt.imshow(examples[i, :, :, 0], cmap='gray_r')\n",
    "        plt.savefig('images/{}/img_{}.png'.format(labels[i], i))\n",
    "\n",
    "generate_images()"
   ]
  },
  {
   "cell_type": "code",
   "execution_count": null,
   "metadata": {},
   "outputs": [],
   "source": []
  }
 ],
 "metadata": {
  "kernelspec": {
   "display_name": "Python 3",
   "language": "python",
   "name": "python3"
  },
  "language_info": {
   "codemirror_mode": {
    "name": "ipython",
    "version": 3
   },
   "file_extension": ".py",
   "mimetype": "text/x-python",
   "name": "python",
   "nbconvert_exporter": "python",
   "pygments_lexer": "ipython3",
   "version": "3.7.6"
  }
 },
 "nbformat": 4,
 "nbformat_minor": 4
}
